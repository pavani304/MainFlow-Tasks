{
 "cells": [
  {
   "cell_type": "markdown",
   "metadata": {},
   "source": [
    "## Explore the Dataset"
   ]
  },
  {
   "cell_type": "code",
   "execution_count": 4,
   "metadata": {},
   "outputs": [
    {
     "data": {
      "text/html": [
       "<div>\n",
       "<style scoped>\n",
       "    .dataframe tbody tr th:only-of-type {\n",
       "        vertical-align: middle;\n",
       "    }\n",
       "\n",
       "    .dataframe tbody tr th {\n",
       "        vertical-align: top;\n",
       "    }\n",
       "\n",
       "    .dataframe thead th {\n",
       "        text-align: right;\n",
       "    }\n",
       "</style>\n",
       "<table border=\"1\" class=\"dataframe\">\n",
       "  <thead>\n",
       "    <tr style=\"text-align: right;\">\n",
       "      <th></th>\n",
       "      <th>show_id</th>\n",
       "      <th>type</th>\n",
       "      <th>title</th>\n",
       "      <th>director</th>\n",
       "      <th>cast</th>\n",
       "      <th>country</th>\n",
       "      <th>date_added</th>\n",
       "      <th>release_year</th>\n",
       "      <th>rating</th>\n",
       "      <th>duration</th>\n",
       "      <th>listed_in</th>\n",
       "      <th>description</th>\n",
       "    </tr>\n",
       "  </thead>\n",
       "  <tbody>\n",
       "    <tr>\n",
       "      <th>0</th>\n",
       "      <td>s1</td>\n",
       "      <td>Movie</td>\n",
       "      <td>A Spark Story</td>\n",
       "      <td>Jason Sterman, Leanne Dare</td>\n",
       "      <td>Apthon Corbin, Louis Gonzales</td>\n",
       "      <td>NaN</td>\n",
       "      <td>September 24, 2021</td>\n",
       "      <td>2021</td>\n",
       "      <td>TV-PG</td>\n",
       "      <td>88 min</td>\n",
       "      <td>Documentary</td>\n",
       "      <td>Two Pixar filmmakers strive to bring their uni...</td>\n",
       "    </tr>\n",
       "    <tr>\n",
       "      <th>1</th>\n",
       "      <td>s2</td>\n",
       "      <td>Movie</td>\n",
       "      <td>Spooky Buddies</td>\n",
       "      <td>Robert Vince</td>\n",
       "      <td>Tucker Albrizzi, Diedrich Bader, Ameko Eks Mas...</td>\n",
       "      <td>United States, Canada</td>\n",
       "      <td>September 24, 2021</td>\n",
       "      <td>2011</td>\n",
       "      <td>G</td>\n",
       "      <td>93 min</td>\n",
       "      <td>Comedy, Fantasy, Kids</td>\n",
       "      <td>The puppies go on a spooky adventure through a...</td>\n",
       "    </tr>\n",
       "    <tr>\n",
       "      <th>2</th>\n",
       "      <td>s3</td>\n",
       "      <td>Movie</td>\n",
       "      <td>The Fault in Our Stars</td>\n",
       "      <td>Josh Boone</td>\n",
       "      <td>Shailene Woodley, Ansel Elgort, Laura Dern, Sa...</td>\n",
       "      <td>United States</td>\n",
       "      <td>September 24, 2021</td>\n",
       "      <td>2014</td>\n",
       "      <td>PG-13</td>\n",
       "      <td>127 min</td>\n",
       "      <td>Coming of Age, Drama, Romance</td>\n",
       "      <td>Hazel and Gus share a love that sweeps them on...</td>\n",
       "    </tr>\n",
       "    <tr>\n",
       "      <th>3</th>\n",
       "      <td>s4</td>\n",
       "      <td>TV Show</td>\n",
       "      <td>Dog: Impossible</td>\n",
       "      <td>NaN</td>\n",
       "      <td>Matt Beisner</td>\n",
       "      <td>United States</td>\n",
       "      <td>September 22, 2021</td>\n",
       "      <td>2019</td>\n",
       "      <td>TV-PG</td>\n",
       "      <td>2 Seasons</td>\n",
       "      <td>Animals &amp; Nature, Docuseries, Family</td>\n",
       "      <td>Matt Beisner uses unique approaches to modifyi...</td>\n",
       "    </tr>\n",
       "    <tr>\n",
       "      <th>4</th>\n",
       "      <td>s5</td>\n",
       "      <td>TV Show</td>\n",
       "      <td>Spidey And His Amazing Friends</td>\n",
       "      <td>NaN</td>\n",
       "      <td>Benjamin Valic, Lily Sanfelippo, Jakari Fraser...</td>\n",
       "      <td>United States</td>\n",
       "      <td>September 22, 2021</td>\n",
       "      <td>2021</td>\n",
       "      <td>TV-Y</td>\n",
       "      <td>1 Season</td>\n",
       "      <td>Action-Adventure, Animation, Kids</td>\n",
       "      <td>Spidey teams up with pals to become The Spidey...</td>\n",
       "    </tr>\n",
       "  </tbody>\n",
       "</table>\n",
       "</div>"
      ],
      "text/plain": [
       "  show_id     type                           title  \\\n",
       "0      s1    Movie                   A Spark Story   \n",
       "1      s2    Movie                  Spooky Buddies   \n",
       "2      s3    Movie          The Fault in Our Stars   \n",
       "3      s4  TV Show                 Dog: Impossible   \n",
       "4      s5  TV Show  Spidey And His Amazing Friends   \n",
       "\n",
       "                     director  \\\n",
       "0  Jason Sterman, Leanne Dare   \n",
       "1                Robert Vince   \n",
       "2                  Josh Boone   \n",
       "3                         NaN   \n",
       "4                         NaN   \n",
       "\n",
       "                                                cast                country  \\\n",
       "0                      Apthon Corbin, Louis Gonzales                    NaN   \n",
       "1  Tucker Albrizzi, Diedrich Bader, Ameko Eks Mas...  United States, Canada   \n",
       "2  Shailene Woodley, Ansel Elgort, Laura Dern, Sa...          United States   \n",
       "3                                       Matt Beisner          United States   \n",
       "4  Benjamin Valic, Lily Sanfelippo, Jakari Fraser...          United States   \n",
       "\n",
       "           date_added  release_year rating   duration  \\\n",
       "0  September 24, 2021          2021  TV-PG     88 min   \n",
       "1  September 24, 2021          2011      G     93 min   \n",
       "2  September 24, 2021          2014  PG-13    127 min   \n",
       "3  September 22, 2021          2019  TV-PG  2 Seasons   \n",
       "4  September 22, 2021          2021   TV-Y   1 Season   \n",
       "\n",
       "                              listed_in  \\\n",
       "0                           Documentary   \n",
       "1                 Comedy, Fantasy, Kids   \n",
       "2         Coming of Age, Drama, Romance   \n",
       "3  Animals & Nature, Docuseries, Family   \n",
       "4     Action-Adventure, Animation, Kids   \n",
       "\n",
       "                                         description  \n",
       "0  Two Pixar filmmakers strive to bring their uni...  \n",
       "1  The puppies go on a spooky adventure through a...  \n",
       "2  Hazel and Gus share a love that sweeps them on...  \n",
       "3  Matt Beisner uses unique approaches to modifyi...  \n",
       "4  Spidey teams up with pals to become The Spidey...  "
      ]
     },
     "execution_count": 4,
     "metadata": {},
     "output_type": "execute_result"
    }
   ],
   "source": [
    "# Import necessary libraries\n",
    "import pandas as pd\n",
    "from textblob import TextBlob\n",
    "import matplotlib.pyplot as plt\n",
    "from sklearn.preprocessing import LabelEncoder\n",
    "from sklearn.cluster import KMeans\n",
    "from sklearn.decomposition import PCA\n",
    "\n",
    "# Load the dataset\n",
    "file_path = '/home/rguktongle/Documents/DS-ML/DS-ML_UDEMY/disney_plus_titles.csv'\n",
    "df = pd.read_csv(file_path)\n",
    "\n",
    "# Display the first few rows of the dataset to understand its structure\n",
    "df.head()\n"
   ]
  },
  {
   "cell_type": "markdown",
   "metadata": {},
   "source": [
    "## Perform Text Analysis"
   ]
  },
  {
   "cell_type": "code",
   "execution_count": 8,
   "metadata": {},
   "outputs": [
    {
     "name": "stdout",
     "output_type": "stream",
     "text": [
      "<class 'pandas.core.frame.DataFrame'>\n",
      "RangeIndex: 1368 entries, 0 to 1367\n",
      "Data columns (total 13 columns):\n",
      " #   Column                 Non-Null Count  Dtype  \n",
      "---  ------                 --------------  -----  \n",
      " 0   show_id                1368 non-null   object \n",
      " 1   type                   1368 non-null   object \n",
      " 2   title                  1368 non-null   object \n",
      " 3   director               928 non-null    object \n",
      " 4   cast                   1194 non-null   object \n",
      " 5   country                1193 non-null   object \n",
      " 6   date_added             1365 non-null   object \n",
      " 7   release_year           1368 non-null   int64  \n",
      " 8   rating                 1366 non-null   object \n",
      " 9   duration               1368 non-null   object \n",
      " 10  listed_in              1368 non-null   object \n",
      " 11  description            1368 non-null   object \n",
      " 12  description_sentiment  1368 non-null   float64\n",
      "dtypes: float64(1), int64(1), object(11)\n",
      "memory usage: 139.1+ KB\n"
     ]
    }
   ],
   "source": [
    "# Summary of the dataset to understand the data types and non-null counts\n",
    "df.info()"
   ]
  },
  {
   "cell_type": "code",
   "execution_count": 9,
   "metadata": {},
   "outputs": [
    {
     "data": {
      "text/plain": [
       "show_id                    0\n",
       "type                       0\n",
       "title                      0\n",
       "director                 440\n",
       "cast                     174\n",
       "country                  175\n",
       "date_added                 3\n",
       "release_year               0\n",
       "rating                     2\n",
       "duration                   0\n",
       "listed_in                  0\n",
       "description                0\n",
       "description_sentiment      0\n",
       "dtype: int64"
      ]
     },
     "execution_count": 9,
     "metadata": {},
     "output_type": "execute_result"
    }
   ],
   "source": [
    "# Check for missing values in each column\n",
    "missing_values = df.isnull().sum()\n",
    "missing_values"
   ]
  },
  {
   "cell_type": "code",
   "execution_count": 10,
   "metadata": {},
   "outputs": [
    {
     "data": {
      "text/html": [
       "<div>\n",
       "<style scoped>\n",
       "    .dataframe tbody tr th:only-of-type {\n",
       "        vertical-align: middle;\n",
       "    }\n",
       "\n",
       "    .dataframe tbody tr th {\n",
       "        vertical-align: top;\n",
       "    }\n",
       "\n",
       "    .dataframe thead th {\n",
       "        text-align: right;\n",
       "    }\n",
       "</style>\n",
       "<table border=\"1\" class=\"dataframe\">\n",
       "  <thead>\n",
       "    <tr style=\"text-align: right;\">\n",
       "      <th></th>\n",
       "      <th>release_year</th>\n",
       "      <th>description_sentiment</th>\n",
       "    </tr>\n",
       "  </thead>\n",
       "  <tbody>\n",
       "    <tr>\n",
       "      <th>count</th>\n",
       "      <td>1368.000000</td>\n",
       "      <td>1368.000000</td>\n",
       "    </tr>\n",
       "    <tr>\n",
       "      <th>mean</th>\n",
       "      <td>2002.348684</td>\n",
       "      <td>0.098366</td>\n",
       "    </tr>\n",
       "    <tr>\n",
       "      <th>std</th>\n",
       "      <td>22.127559</td>\n",
       "      <td>0.296196</td>\n",
       "    </tr>\n",
       "    <tr>\n",
       "      <th>min</th>\n",
       "      <td>1928.000000</td>\n",
       "      <td>-1.000000</td>\n",
       "    </tr>\n",
       "    <tr>\n",
       "      <th>25%</th>\n",
       "      <td>1998.000000</td>\n",
       "      <td>0.000000</td>\n",
       "    </tr>\n",
       "    <tr>\n",
       "      <th>50%</th>\n",
       "      <td>2011.000000</td>\n",
       "      <td>0.000000</td>\n",
       "    </tr>\n",
       "    <tr>\n",
       "      <th>75%</th>\n",
       "      <td>2018.000000</td>\n",
       "      <td>0.250000</td>\n",
       "    </tr>\n",
       "    <tr>\n",
       "      <th>max</th>\n",
       "      <td>2021.000000</td>\n",
       "      <td>1.000000</td>\n",
       "    </tr>\n",
       "  </tbody>\n",
       "</table>\n",
       "</div>"
      ],
      "text/plain": [
       "       release_year  description_sentiment\n",
       "count   1368.000000            1368.000000\n",
       "mean    2002.348684               0.098366\n",
       "std       22.127559               0.296196\n",
       "min     1928.000000              -1.000000\n",
       "25%     1998.000000               0.000000\n",
       "50%     2011.000000               0.000000\n",
       "75%     2018.000000               0.250000\n",
       "max     2021.000000               1.000000"
      ]
     },
     "execution_count": 10,
     "metadata": {},
     "output_type": "execute_result"
    }
   ],
   "source": [
    "# Display basic statistics of numeric columns\n",
    "df.describe()\n"
   ]
  },
  {
   "cell_type": "markdown",
   "metadata": {},
   "source": [
    "##  Cluster Analysis - Based on Type and Rating"
   ]
  },
  {
   "cell_type": "code",
   "execution_count": 6,
   "metadata": {},
   "outputs": [
    {
     "data": {
      "image/png": "[encoded data removed]",
      "text/plain": [
       "<Figure size 432x288 with 1 Axes>"
      ]
     },
     "metadata": {
      "needs_background": "light"
     },
     "output_type": "display_data"
    },
    {
     "name": "stdout",
     "output_type": "stream",
     "text": [
      "count    1368.000000\n",
      "mean        0.098366\n",
      "std         0.296196\n",
      "min        -1.000000\n",
      "25%         0.000000\n",
      "50%         0.000000\n",
      "75%         0.250000\n",
      "max         1.000000\n",
      "Name: description_sentiment, dtype: float64\n"
     ]
    }
   ],
   "source": [
    "# Check if the dataset has 'title' and 'description' columns\n",
    "if 'title' in df.columns and 'description' in df.columns:\n",
    "    # Analyze sentiment of descriptions\n",
    "    df['description_sentiment'] = df['description'].apply(lambda x: TextBlob(x).sentiment.polarity)\n",
    "    \n",
    "    # Plot sentiment distribution\n",
    "    plt.hist(df['description_sentiment'], bins=20, edgecolor='k')\n",
    "    plt.title('Sentiment Polarity Distribution of Descriptions')\n",
    "    plt.xlabel('Sentiment Polarity')\n",
    "    plt.ylabel('Frequency')\n",
    "    plt.show()\n",
    "\n",
    "    # Display sentiment statistics\n",
    "    print(df['description_sentiment'].describe())\n",
    "else:\n",
    "    print(\"Columns 'title' or 'description' not found in the dataset.\")\n"
   ]
  },
  {
   "cell_type": "markdown",
   "metadata": {},
   "source": [
    "## Time Series Analysis - Trend Analysis Based on Date Added"
   ]
  },
  {
   "cell_type": "code",
   "execution_count": 14,
   "metadata": {},
   "outputs": [
    {
     "data": {
      "image/png": "[encoded data removed]",
      "text/plain": [
       "<Figure size 432x288 with 2 Axes>"
      ]
     },
     "metadata": {
      "needs_background": "light"
     },
     "output_type": "display_data"
    },
    {
     "name": "stdout",
     "output_type": "stream",
     "text": [
      "Cluster Centers:\n",
      " [[3.97111913e-01 5.00722022e+00]\n",
      " [3.48432056e-03 1.20905923e+00]\n",
      " [3.13984169e-01 3.81002639e+00]\n",
      " [1.11022302e-15 0.00000000e+00]\n",
      " [7.73684211e-01 6.84210526e+00]]\n",
      "\n",
      "Count of Titles in Each Cluster:\n",
      "0    277\n",
      "1    287\n",
      "2    379\n",
      "3    235\n",
      "4    190\n",
      "Name: cluster, dtype: int64\n",
      "\n",
      "Top Types and Ratings in Each Cluster:\n",
      "\n",
      "Cluster 0:\n",
      "Top Types:\n",
      "Movie      167\n",
      "TV Show    110\n",
      "Name: type, dtype: int64\n",
      "Top Ratings:\n",
      "TV-PG    275\n",
      "TV-Y       2\n",
      "Name: rating, dtype: int64\n",
      "\n",
      "Cluster 1:\n",
      "Top Types:\n",
      "Movie      286\n",
      "TV Show      1\n",
      "Name: type, dtype: int64\n",
      "Top Ratings:\n",
      "PG       227\n",
      "PG-13     60\n",
      "Name: rating, dtype: int64\n",
      "\n",
      "Cluster 2:\n",
      "Top Types:\n",
      "Movie      260\n",
      "TV Show    119\n",
      "Name: type, dtype: int64\n",
      "Top Ratings:\n",
      "TV-G     307\n",
      "TV-14     72\n",
      "Name: rating, dtype: int64\n",
      "\n",
      "Cluster 3:\n",
      "Top Types:\n",
      "Movie    235\n",
      "Name: type, dtype: int64\n",
      "Top Ratings:\n",
      "G    235\n",
      "Name: rating, dtype: int64\n",
      "\n",
      "Cluster 4:\n",
      "Top Types:\n",
      "TV Show    147\n",
      "Movie       43\n",
      "Name: type, dtype: int64\n",
      "Top Ratings:\n",
      "TV-Y7       130\n",
      "TV-Y         46\n",
      "TV-Y7-FV     12\n",
      "Name: rating, dtype: int64\n"
     ]
    }
   ],
   "source": [
    "# Check if the dataset has 'type' and 'rating' columns\n",
    "if 'type' in df.columns and 'rating' in df.columns:\n",
    "    # Encode categorical 'type' and 'rating' columns\n",
    "    le_type = LabelEncoder()\n",
    "    le_rating = LabelEncoder()\n",
    "    df['type_encoded'] = le_type.fit_transform(df['type'])\n",
    "    df['rating_encoded'] = le_rating.fit_transform(df['rating'].astype(str))  # Convert to str to handle NaNs\n",
    "\n",
    "    # Prepare features for clustering\n",
    "    X = df[['type_encoded', 'rating_encoded']].dropna()  # Drop rows with missing values in these columns\n",
    "\n",
    "    # Apply KMeans clustering\n",
    "    kmeans = KMeans(n_clusters=5, random_state=42)\n",
    "    df['cluster'] = kmeans.fit_predict(X)\n",
    "\n",
    "    # Visualize clusters using PCA\n",
    "    pca = PCA(n_components=2)\n",
    "    X_pca = pca.fit_transform(X)\n",
    "    plt.scatter(X_pca[:, 0], X_pca[:, 1], c=df['cluster'], cmap='viridis')\n",
    "    plt.title('Clustering of Titles based on Type and Rating')\n",
    "    plt.xlabel('PCA Component 1')\n",
    "    plt.ylabel('PCA Component 2')\n",
    "    plt.colorbar(label='Cluster')\n",
    "    plt.show()\n",
    "\n",
    "    # Display cluster centers\n",
    "    print(\"Cluster Centers:\\n\", kmeans.cluster_centers_)\n",
    "\n",
    "    # Count of titles in each cluster\n",
    "    cluster_counts = df['cluster'].value_counts().sort_index()\n",
    "    print(\"\\nCount of Titles in Each Cluster:\")\n",
    "    print(cluster_counts)\n",
    "\n",
    "    # Display top types and ratings in each cluster\n",
    "    print(\"\\nTop Types and Ratings in Each Cluster:\")\n",
    "    for cluster in range(5):\n",
    "        cluster_data = df[df['cluster'] == cluster]\n",
    "        top_types = cluster_data['type'].value_counts().head(3)\n",
    "        top_ratings = cluster_data['rating'].value_counts().head(3)\n",
    "        print(f\"\\nCluster {cluster}:\")\n",
    "        print(\"Top Types:\")\n",
    "        print(top_types)\n",
    "        print(\"Top Ratings:\")\n",
    "        print(top_ratings)\n",
    "else:\n",
    "    print(\"Columns 'type' or 'rating' not found in the dataset.\")\n"
   ]
  },
  {
   "cell_type": "markdown",
   "metadata": {},
   "source": [
    "## Text Analysis - Sentiment Analysis on Descriptions"
   ]
  },
  {
   "cell_type": "code",
   "execution_count": 13,
   "metadata": {},
   "outputs": [
    {
     "data": {
      "image/png": "[encoded data removed]",
      "text/plain": [
       "<Figure size 432x288 with 1 Axes>"
      ]
     },
     "metadata": {
      "needs_background": "light"
     },
     "output_type": "display_data"
    },
    {
     "data": {
      "image/png": "[encoded data removed]",
      "text/plain": [
       "<Figure size 432x288 with 1 Axes>"
      ]
     },
     "metadata": {
      "needs_background": "light"
     },
     "output_type": "display_data"
    }
   ],
   "source": [
    "# Check if the dataset has 'date_added' column\n",
    "if 'date_added' in df.columns:\n",
    "    # Convert 'date_added' to datetime\n",
    "    df['date_added'] = pd.to_datetime(df['date_added'], errors='coerce')\n",
    "    \n",
    "    # Extract year and month for trend analysis\n",
    "    df['year_added'] = df['date_added'].dt.year\n",
    "    df['month_added'] = df['date_added'].dt.month\n",
    "    \n",
    "    # Plot number of titles added per year\n",
    "    df.groupby('year_added').size().plot(kind='bar')\n",
    "    plt.title('Number of Titles Added Per Year')\n",
    "    plt.xlabel('Year Added')\n",
    "    plt.ylabel('Number of Titles')\n",
    "    plt.show()\n",
    "\n",
    "    # Plot number of titles added per month\n",
    "    df.groupby('month_added').size().plot(kind='bar')\n",
    "    plt.title('Number of Titles Added Per Month')\n",
    "    plt.xlabel('Month Added')\n",
    "    plt.ylabel('Number of Titles')\n",
    "    plt.show()\n",
    "else:\n",
    "    print(\"Column 'date_added' not found in the dataset.\")\n"
   ]
  },
  {
   "cell_type": "markdown",
   "metadata": {},
   "source": [
    "## Saving the processed data"
   ]
  },
  {
   "cell_type": "code",
   "execution_count": 16,
   "metadata": {},
   "outputs": [
    {
     "name": "stdout",
     "output_type": "stream",
     "text": [
      "Processed data saved to 'disney_plus_titles_processed.csv'\n"
     ]
    }
   ],
   "source": [
    "# Save the processed dataframe with sentiment and cluster information\n",
    "df.to_csv('/home/rguktongle/Documents/DS-ML/DS-ML_UDEMY/disney_plus_titles.csv', index=False)\n",
    "print(\"Processed data saved to 'disney_plus_titles_processed.csv'\")\n"
   ]
  },
  {
   "cell_type": "code",
   "execution_count": 22,
   "metadata": {},
   "outputs": [],
   "source": [
    "import pandas as pd\n",
    "import numpy as np\n",
    "import matplotlib.pyplot as plt\n",
    "from statsmodels.tsa.seasonal import seasonal_decompose\n",
    "from statsmodels.tsa.holtwinters import ExponentialSmoothing\n",
    "import warnings\n",
    "\n",
    "warnings.filterwarnings('ignore')\n"
   ]
  },
  {
   "cell_type": "code",
   "execution_count": 24,
   "metadata": {},
   "outputs": [
    {
     "data": {
      "text/plain": [
       "date_added\n",
       "2019-10-31      9\n",
       "2019-11-30    731\n",
       "2019-12-31     25\n",
       "2020-01-31     44\n",
       "2020-02-29     20\n",
       "Freq: M, dtype: int64"
      ]
     },
     "execution_count": 24,
     "metadata": {},
     "output_type": "execute_result"
    }
   ],
   "source": [
    "# Load the dataset\n",
    "file_path = '/home/rguktongle/Documents/DS-ML/DS-ML_UDEMY/disney_plus_titles.csv'\n",
    "df = pd.read_csv(file_path)\n",
    "\n",
    "# Convert 'date_added' to datetime\n",
    "df['date_added'] = pd.to_datetime(df['date_added'], errors='coerce')\n",
    "\n",
    "# Filter out rows where 'date_added' is missing\n",
    "df = df.dropna(subset=['date_added'])\n",
    "\n",
    "# Set 'date_added' as the index\n",
    "df.set_index('date_added', inplace=True)\n",
    "\n",
    "# Resample the data to monthly frequency, counting the number of titles added each month\n",
    "monthly_titles = df.resample('M').size()\n",
    "\n",
    "# Display the resampled time series\n",
    "monthly_titles.head()\n"
   ]
  },
  {
   "cell_type": "code",
   "execution_count": 25,
   "metadata": {},
   "outputs": [
    {
     "data": {
      "image/png": "[encoded data removed]",
      "text/plain": [
       "<Figure size 864x720 with 4 Axes>"
      ]
     },
     "metadata": {
      "needs_background": "light"
     },
     "output_type": "display_data"
    }
   ],
   "source": [
    "# Decompose the time series into trend, seasonal, and residual components\n",
    "decomposition = seasonal_decompose(monthly_titles, model='additive')\n",
    "\n",
    "# Plot the decomposed components\n",
    "fig, (ax1, ax2, ax3, ax4) = plt.subplots(4, 1, figsize=(12, 10), sharex=True)\n",
    "\n",
    "decomposition.observed.plot(ax=ax1)\n",
    "ax1.set_ylabel('Observed')\n",
    "\n",
    "decomposition.trend.plot(ax=ax2)\n",
    "ax2.set_ylabel('Trend')\n",
    "\n",
    "decomposition.seasonal.plot(ax=ax3)\n",
    "ax3.set_ylabel('Seasonal')\n",
    "\n",
    "decomposition.resid.plot(ax=ax4)\n",
    "ax4.set_ylabel('Residual')\n",
    "\n",
    "plt.xlabel('Date')\n",
    "plt.tight_layout()\n",
    "plt.show()\n"
   ]
  },
  {
   "cell_type": "code",
   "execution_count": 27,
   "metadata": {},
   "outputs": [
    {
     "data": {
      "image/png": "[encoded data removed]",
      "text/plain": [
       "<Figure size 864x432 with 1 Axes>"
      ]
     },
     "metadata": {
      "needs_background": "light"
     },
     "output_type": "display_data"
    }
   ],
   "source": [
    "# Fit an Exponential Smoothing model\n",
    "model = ExponentialSmoothing(monthly_titles, seasonal='add', seasonal_periods=12)\n",
    "fit = model.fit()\n",
    "\n",
    "# Forecast the next 12 months\n",
    "forecast = fit.forecast(12)\n",
    "\n",
    "# Plot the original series and the forecast\n",
    "plt.figure(figsize=(12, 6))\n",
    "plt.plot(monthly_titles, label='Observed')\n",
    "plt.plot(forecast, label='Forecast', linestyle='--')\n",
    "plt.xlabel('Date')\n",
    "plt.ylabel('Number of Titles Added')\n",
    "plt.title('Monthly Titles Added to Disney Plus')\n",
    "plt.legend()\n",
    "plt.show()\n"
   ]
  },
  {
   "cell_type": "code",
   "execution_count": null,
   "metadata": {},
   "outputs": [],
   "source": []
  }
 ],
 "metadata": {
  "kernelspec": {
   "display_name": "Python 3 (ipykernel)",
   "language": "python",
   "name": "python3"
  },
  "language_info": {
   "codemirror_mode": {
    "name": "ipython",
    "version": 3
   },
   "file_extension": ".py",
   "mimetype": "text/x-python",
   "name": "python",
   "nbconvert_exporter": "python",
   "pygments_lexer": "ipython3",
   "version": "3.10.12"
  }
 },
 "nbformat": 4,
 "nbformat_minor": 2
}
