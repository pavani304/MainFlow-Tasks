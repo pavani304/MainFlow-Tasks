{
 "cells": [
  {
   "cell_type": "code",
   "execution_count": 27,
   "id": "d9be4a2a",
   "metadata": {},
   "outputs": [
    {
     "name": "stdout",
     "output_type": "stream",
     "text": [
      "['M', 'a', 'i', 'n', 'F', 'l', 'o', 'w']\n",
      "List after adding the element: ['M', 'a', 'i', 'n', 'F', 'l', 'o', 'w', 'no.1']\n",
      "List after removing the element: ['M', 'a', 'i', 'n', 'F', 'l', 'o', 'w']\n",
      "List after modifying value: ['M', 'a', 'i', 'n', 'f', 'l', 'o', 'w']\n",
      "Dictionary after adding key-value pair: {'a': 1, 'b': 2, 'c': 3, 'd': 4}\n",
      "Dictionary after removing key-value pair: {'a': 1, 'c': 3, 'd': 4}\n",
      "Dictionary after modifying value: {'a': 100, 'c': 3, 'd': 4}\n",
      "Set after adding element: {1, 2, 3, 4, 5, 6}\n",
      "Set after removing element: {1, 2, 4, 5, 6}\n"
     ]
    }
   ],
   "source": [
    "#Lists are Mutable\n",
    "#creating a list\n",
    "L1=[\"M\",\"a\",\"i\",\"n\",\"F\",\"l\",\"o\",\"w\"]\n",
    "print(L1)\n",
    "\n",
    "#adding elements\n",
    "L1.append(\"no.1\")\n",
    "print(\"List after adding the element:\",L1)\n",
    "\n",
    "#removing elements\n",
    "L1.remove(\"no.1\")\n",
    "print(\"List after removing the element:\",L1)\n",
    "\n",
    "#modifying elements\n",
    "L1[4]=\"f\"\n",
    "print(\"List after modifying value:\",L1)\n",
    "\n",
    "\n",
    "#Dictionaries are Mutable\n",
    "# Creating a dictionary\n",
    "my_dict = {'a': 1, 'b': 2, 'c': 3}\n",
    "\n",
    "# Adding key-value pair to the dictionary\n",
    "my_dict['d'] = 4\n",
    "print(\"Dictionary after adding key-value pair:\", my_dict)\n",
    "\n",
    "# Removing key-value pair from the dictionary\n",
    "del my_dict['b']\n",
    "print(\"Dictionary after removing key-value pair:\", my_dict)\n",
    "\n",
    "# Modifying a value in the dictionary\n",
    "my_dict['a'] = 100\n",
    "print(\"Dictionary after modifying value:\", my_dict)\n",
    "\n",
    "\n",
    "#Sets are Mutable\n",
    "my_set = {1, 2, 3, 4, 5}\n",
    "\n",
    "# Adding element to the set\n",
    "my_set.add(6)\n",
    "print(\"Set after adding element:\", my_set)\n",
    "\n",
    "# Removing element from the set\n",
    "my_set.remove(3)\n",
    "print(\"Set after removing element:\", my_set)\n",
    "\n",
    "#Sets do not support direct modification of individual elements because they are unordered collections of unique elements. "
   ]
  },
  {
   "cell_type": "code",
   "execution_count": null,
   "id": "578b2139",
   "metadata": {},
   "outputs": [],
   "source": []
  }
 ],
 "metadata": {
  "kernelspec": {
   "display_name": "Python 3 (ipykernel)",
   "language": "python",
   "name": "python3"
  },
  "language_info": {
   "codemirror_mode": {
    "name": "ipython",
    "version": 3
   },
   "file_extension": ".py",
   "mimetype": "text/x-python",
   "name": "python",
   "nbconvert_exporter": "python",
   "pygments_lexer": "ipython3",
   "version": "3.10.12"
  }
 },
 "nbformat": 4,
 "nbformat_minor": 5
}
